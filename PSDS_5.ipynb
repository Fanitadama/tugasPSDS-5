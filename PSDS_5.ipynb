{
  "nbformat": 4,
  "nbformat_minor": 0,
  "metadata": {
    "colab": {
      "provenance": []
    },
    "kernelspec": {
      "name": "python3",
      "display_name": "Python 3"
    },
    "language_info": {
      "name": "python"
    }
  },
  "cells": [
    {
      "cell_type": "markdown",
      "source": [
        "# Looping/Perulangan\n",
        "\n",
        "Python menyediakan dua statement untuk melakukan proses peruangan yaitu for dan while. Diantara kedua statement ini, secara umum for lebih banyak digunakan daripada while."
      ],
      "metadata": {
        "id": "S9uaIurFQiHI"
      }
    },
    {
      "cell_type": "markdown",
      "source": [
        "# For Loop\n",
        "\n",
        "Perulangan `for` digunakan untuk melakukan iterasi di dalam `sequence` seperti `list`, `tuple`, `string`, dan array atau objek yang dapat diiterasi lainnya.\n",
        "\n",
        "**For Loop Syntax**"
      ],
      "metadata": {
        "id": "c4yVEujYRF9o"
      }
    },
    {
      "cell_type": "markdown",
      "source": [
        "**Example: Python for Loop**"
      ],
      "metadata": {
        "id": "HUwc8bUVSsDi"
      }
    },
    {
      "cell_type": "code",
      "source": [
        "# Program untuk menghitung jumlah semua angka dalam sebuah list\n",
        "L1 = [2, 4, 5, 7, 9]\n",
        "jumlah = 0\n",
        "\n",
        "# iterasi di dalam list\n",
        "for i in L1:\n",
        "  jumlah = jumlah + i\n",
        "\n",
        "print(jumlah)"
      ],
      "metadata": {
        "colab": {
          "base_uri": "https://localhost:8080/"
        },
        "id": "BjZLdCcASUd4",
        "outputId": "caa89dac-0964-4f70-ed93-4badc83e980f"
      },
      "execution_count": 1,
      "outputs": [
        {
          "output_type": "stream",
          "name": "stdout",
          "text": [
            "27\n"
          ]
        }
      ]
    },
    {
      "cell_type": "markdown",
      "source": [
        "**The range() function**"
      ],
      "metadata": {
        "id": "ozvZXBP1TP4V"
      }
    },
    {
      "cell_type": "code",
      "source": [
        "# Program untuk melakukan iterasi di dalam list melalui indeks\n",
        "minuman = [\"teh\", \"boba\", \"kopi\", \"susu\"]\n",
        "p = len(minuman)\n",
        "\n",
        "# iterasi di dalam list melalui indeks\n",
        "for i in range(p):\n",
        "  print(minuman[i])"
      ],
      "metadata": {
        "colab": {
          "base_uri": "https://localhost:8080/"
        },
        "id": "FppRDzs1TN6D",
        "outputId": "c1de578c-4e6e-426f-d407-e7318ceae7e9"
      },
      "execution_count": 2,
      "outputs": [
        {
          "output_type": "stream",
          "name": "stdout",
          "text": [
            "teh\n",
            "boba\n",
            "kopi\n",
            "susu\n"
          ]
        }
      ]
    },
    {
      "cell_type": "markdown",
      "source": [
        "**for loop with else**"
      ],
      "metadata": {
        "id": "EZ0iMyryUBM4"
      }
    },
    {
      "cell_type": "code",
      "source": [
        "# Contoh for Loop menggunakan else\n",
        "for i in range(p):\n",
        "  print(minuman[i])\n",
        "else:\n",
        "  print(\"Elemen sudah habis\")"
      ],
      "metadata": {
        "colab": {
          "base_uri": "https://localhost:8080/"
        },
        "id": "7OM1CXV2T5Jk",
        "outputId": "7daf72b8-d3d8-4a31-ebe0-fb656bf7b0a5"
      },
      "execution_count": 3,
      "outputs": [
        {
          "output_type": "stream",
          "name": "stdout",
          "text": [
            "teh\n",
            "boba\n",
            "kopi\n",
            "susu\n",
            "Elemen sudah habis\n"
          ]
        }
      ]
    },
    {
      "cell_type": "markdown",
      "source": [
        "# Latihan 1"
      ],
      "metadata": {
        "id": "sUI_pcD5Uajh"
      }
    },
    {
      "cell_type": "markdown",
      "source": [
        "Diberikan `list_tagihan`. Kamu diminta untuk menghitung jumlah seluruh tagihan! Gunakan looping `for` untuk menyelesaikan tugas ini! Simpan hasilnya pada variabel total_tagihan!"
      ],
      "metadata": {
        "id": "pUSAwLK5Ulal"
      }
    },
    {
      "cell_type": "code",
      "source": [
        "list_tagihan = [50000, 75000, -150000, 125000, 300000, -50000, 200000]"
      ],
      "metadata": {
        "id": "lQ4Wz2Z4UVt2"
      },
      "execution_count": 4,
      "outputs": []
    },
    {
      "cell_type": "code",
      "source": [
        "# tuliskan code kalian\n",
        "list_tagihan = [50000, 75000, -150000, 125000, 300000, -50000, 200000]\n",
        "total_tagihan = 0\n",
        "\n",
        "# iterasi di dalam list\n",
        "for i in list_tagihan:\n",
        "  total_tagihan = total_tagihan + i\n",
        "\n",
        "print(total_tagihan)"
      ],
      "metadata": {
        "id": "YfmqUlkAVhKo",
        "colab": {
          "base_uri": "https://localhost:8080/"
        },
        "outputId": "23d3b520-33eb-4fe9-9f3d-089fba33e415"
      },
      "execution_count": 5,
      "outputs": [
        {
          "output_type": "stream",
          "name": "stdout",
          "text": [
            "550000\n"
          ]
        }
      ]
    },
    {
      "cell_type": "markdown",
      "source": [
        "# While Loop\n",
        "\n",
        "While loop pada Python digunakan untuk melakukan iterasi pada blok kode sesama nilai dari `test_expression` adalah true.\n",
        "\n",
        "**Syntax of while Loop in Python**"
      ],
      "metadata": {
        "id": "sgjt67xFVmLD"
      }
    },
    {
      "cell_type": "markdown",
      "source": [
        "**Example: Python while Loop**"
      ],
      "metadata": {
        "id": "uLVb71MIWba5"
      }
    },
    {
      "cell_type": "code",
      "source": [
        "# Program untuk menjumlahkan semua\n",
        "# bilangan asli hingga suku ke-n\n",
        "# jum = 1+2+3+...+n\n",
        "\n",
        "n = 10\n",
        "jumlah = 0\n",
        "i = 0\n",
        "\n",
        "while i <= n:\n",
        "  jumlah = jumlah + i\n",
        "  i = i + 1\n",
        "\n",
        "print(jumlah)"
      ],
      "metadata": {
        "colab": {
          "base_uri": "https://localhost:8080/"
        },
        "id": "_TVEcSF7WTis",
        "outputId": "5d2aded1-dd11-434f-c85a-86c2555203cb"
      },
      "execution_count": 6,
      "outputs": [
        {
          "output_type": "stream",
          "name": "stdout",
          "text": [
            "55\n"
          ]
        }
      ]
    },
    {
      "cell_type": "markdown",
      "source": [
        "#**While loop with else**\n",
        "\n",
        "Sama dengan `for` loop kita juga dapat mengkombinasikan `while` loop dengan blok `else`.\n",
        "\n",
        "Bagian `else` akan dieksekusi jika nilai pada `test expression` pada `while loop` bernilai False. Perhatikan contoh berikut:"
      ],
      "metadata": {
        "id": "SSWdJHGoW8Tw"
      }
    },
    {
      "cell_type": "code",
      "source": [
        "jum = 0\n",
        "i = 1\n",
        "while i <= n:\n",
        "  jum = jum + i\n",
        "  i = i + 1\n",
        "else:\n",
        "  print(jum) #dieksekusi di luar looping"
      ],
      "metadata": {
        "colab": {
          "base_uri": "https://localhost:8080/"
        },
        "id": "lADwOL7pW6jA",
        "outputId": "03b17830-6fc8-40dc-af04-6761088aa7ab"
      },
      "execution_count": 7,
      "outputs": [
        {
          "output_type": "stream",
          "name": "stdout",
          "text": [
            "55\n"
          ]
        }
      ]
    },
    {
      "cell_type": "markdown",
      "source": [
        "# Latihan 2"
      ],
      "metadata": {
        "id": "Ej58uxw2Z1A8"
      }
    },
    {
      "cell_type": "markdown",
      "source": [
        "Diberikan list tagihan, hitunglah total_tagihan menggunakan while loop"
      ],
      "metadata": {
        "id": "jWKIiv-PZ5BV"
      }
    },
    {
      "cell_type": "code",
      "source": [
        "tagihan = [50000, 75000, 125000, 300000, 200000]"
      ],
      "metadata": {
        "id": "-Vj6DaRNZzlO"
      },
      "execution_count": 8,
      "outputs": []
    },
    {
      "cell_type": "code",
      "source": [
        "# Tuliskan kodemu\n",
        "tagihan = [50000, 75000, 125000, 300000, 200000]\n",
        "total_tagihan = 0\n",
        "i = 0\n",
        "\n",
        "while i < len(tagihan):\n",
        "    total_tagihan += tagihan[i]\n",
        "    i += 1\n",
        "\n",
        "print(total_tagihan)\n"
      ],
      "metadata": {
        "colab": {
          "base_uri": "https://localhost:8080/"
        },
        "id": "RlttMHR7J7ug",
        "outputId": "da9c9699-38ee-48d8-d3e8-69cd484f657d"
      },
      "execution_count": 9,
      "outputs": [
        {
          "output_type": "stream",
          "name": "stdout",
          "text": [
            "750000\n"
          ]
        }
      ]
    },
    {
      "cell_type": "markdown",
      "source": [
        "# **Percabangan/Struktur Pemilihan**"
      ],
      "metadata": {
        "id": "1fKC8Ypma7N8"
      }
    },
    {
      "cell_type": "markdown",
      "source": [
        "Pada bagian ini, kamu akan membuat keputusan pada bahasa pemrograman Python menggunakan struktur percabangan atau juga sering disebut IF ELSE Statement. Pengambiankeputusan dibutuhkan ketika kamu akan mengeksekusi suatu kode jika sebuah kondisi tertentu dipenuhi.\n",
        "\n",
        "Statement if .. elif .. else digunakan pada bahasa Python untuk pengambilan keputusan."
      ],
      "metadata": {
        "id": "S8wRsR7LbC7c"
      }
    },
    {
      "cell_type": "markdown",
      "source": [
        "# IF Statements"
      ],
      "metadata": {
        "id": "Ehchw8x_cRAL"
      }
    },
    {
      "cell_type": "markdown",
      "source": [
        "**Python IF Statement Syntax**"
      ],
      "metadata": {
        "id": "anFL2pmrcZsT"
      }
    },
    {
      "cell_type": "markdown",
      "source": [
        "**Example: Python IF Statement**"
      ],
      "metadata": {
        "id": "mUduMUUGcsfR"
      }
    },
    {
      "cell_type": "code",
      "source": [
        "# Jika angka adalah bilangan positif maka print \"adalah biangan positif\"\n",
        "\n",
        "angka = 3\n",
        "if angka > 0:\n",
        "    print(angka, \"adalah bilangan positif.\")\n",
        "print(\"Pernyataan ini selalu ditampilkan.\")\n",
        "\n",
        "angka = -1\n",
        "if angka > 0:\n",
        "    print(angka, \"adalah bilangan positif.\")\n",
        "print(\"Pernyataan ini juga selalu ditampilkan.\")"
      ],
      "metadata": {
        "colab": {
          "base_uri": "https://localhost:8080/"
        },
        "id": "M4523eb0cotk",
        "outputId": "f879389d-2193-4aca-ec6d-57f1c190b47f"
      },
      "execution_count": 10,
      "outputs": [
        {
          "output_type": "stream",
          "name": "stdout",
          "text": [
            "3 adalah bilangan positif.\n",
            "Pernyataan ini selalu ditampilkan.\n",
            "Pernyataan ini juga selalu ditampilkan.\n"
          ]
        }
      ]
    },
    {
      "cell_type": "markdown",
      "source": [
        "# IF ELSE Statements\n",
        "\n",
        "**Python IF ELSE Statement Syntax**"
      ],
      "metadata": {
        "id": "uaioK9wrdvyG"
      }
    },
    {
      "cell_type": "markdown",
      "source": [
        "**Example: Python IF ELSE Statement**"
      ],
      "metadata": {
        "id": "7t3sqZ1okodi"
      }
    },
    {
      "cell_type": "code",
      "source": [
        "# Program disusun untuk mngecek apakah angka tersebut kurang dari 0 atau tidak\n",
        "# dan menampilkan tulisan yang sesuai\n",
        "\n",
        "angka = 3\n",
        "\n",
        "if angka >= 0:\n",
        "    print(\"Bilangan lebih dari atau samadengan 0\")\n",
        "else:\n",
        "    print(\"Bilangan kurang dari 0\")"
      ],
      "metadata": {
        "colab": {
          "base_uri": "https://localhost:8080/"
        },
        "id": "1X73r4Q6eHVr",
        "outputId": "86b1d29d-938c-42e8-f83a-aabb6edcacf0"
      },
      "execution_count": 11,
      "outputs": [
        {
          "output_type": "stream",
          "name": "stdout",
          "text": [
            "Bilangan lebih dari atau samadengan 0\n"
          ]
        }
      ]
    },
    {
      "cell_type": "code",
      "source": [
        "# Program disusun untuk mengecek apakah dua buah angka sama atau tidak\n",
        "# dan menmpilkan tulisan yang sesuai\n",
        "\n",
        "a = 5\n",
        "b = 5\n",
        "\n",
        "if a==b:\n",
        "    print(\"a dan b bernilai sama\")\n",
        "else:\n",
        "    print(\"a dan b bernilai berbeda\")\n",
        "    print(\"Belajar If Else\")"
      ],
      "metadata": {
        "colab": {
          "base_uri": "https://localhost:8080/"
        },
        "id": "mQLr0AmJlNf8",
        "outputId": "127edcf4-c8c6-4424-dfa5-96a45b6f710c"
      },
      "execution_count": 12,
      "outputs": [
        {
          "output_type": "stream",
          "name": "stdout",
          "text": [
            "a dan b bernilai sama\n"
          ]
        }
      ]
    },
    {
      "cell_type": "code",
      "source": [
        "# Program disusun untuk mengecek apakah perbandingan dua buah angka\n",
        "# dan menampilkan tulisan yang sesuai\n",
        "\n",
        "# Membaca dua angka\n",
        "bil1 = int(input(\"Masukkan bilangan pertama: \"))\n",
        "bil2 = int(input(\"Masukkan bilangan kedua: \"))\n",
        "\n",
        "# memilih bilangan yang lebih besar\n",
        "if bil1 > bil2:\n",
        "    bil_lebih_besar = bil1\n",
        "else:\n",
        "    bil_lebih_besar = bil2\n",
        "\n",
        "# menampilkan hasil\n",
        "print(\"Bilangan yang lebih besar adalah:\", bil_lebih_besar)"
      ],
      "metadata": {
        "colab": {
          "base_uri": "https://localhost:8080/"
        },
        "id": "5AaGYjr4l0DE",
        "outputId": "d68e816e-4773-4d64-80d3-a613ce779ea7"
      },
      "execution_count": 13,
      "outputs": [
        {
          "output_type": "stream",
          "name": "stdout",
          "text": [
            "Masukkan bilangan pertama: 5\n",
            "Masukkan bilangan kedua: 15\n",
            "Bilangan yang lebih besar adalah: 15\n"
          ]
        }
      ]
    },
    {
      "cell_type": "markdown",
      "source": [
        "# IF ELIF ELSE Statement"
      ],
      "metadata": {
        "id": "WH_n65nYm7AS"
      }
    },
    {
      "cell_type": "markdown",
      "source": [
        "**Python IF ELIF ELSE Statement**"
      ],
      "metadata": {
        "id": "eGs1uJlOm_2u"
      }
    },
    {
      "cell_type": "markdown",
      "source": [
        "**Example: Python IF ELIF ELSE Statement**"
      ],
      "metadata": {
        "id": "p1AV5wwHnsvt"
      }
    },
    {
      "cell_type": "code",
      "source": [
        "# Program disusun untuk mengecek apakah angka merupakan bilangan positif, negatif atau nol\n",
        "# dan menampilkan tulisan yang sesuai\n",
        "\n",
        "angka = 3.4\n",
        "\n",
        "if angka > 0:\n",
        "    print(\"Bilangan Positif\")\n",
        "elif num == 0:\n",
        "    print(\"Nol\")\n",
        "else:\n",
        "    print(\"Bilangan Negatif\")"
      ],
      "metadata": {
        "id": "z9FlqG7gnsOY",
        "colab": {
          "base_uri": "https://localhost:8080/"
        },
        "outputId": "d76cc0eb-c6d1-4058-b17e-8bf5c55c1102"
      },
      "execution_count": 14,
      "outputs": [
        {
          "output_type": "stream",
          "name": "stdout",
          "text": [
            "Bilangan Positif\n"
          ]
        }
      ]
    },
    {
      "cell_type": "markdown",
      "source": [
        "# Python Nested IF Statements"
      ],
      "metadata": {
        "id": "ua_osyu2pXE2"
      }
    },
    {
      "cell_type": "markdown",
      "source": [
        "**Example: Python NESTED IF Statement**"
      ],
      "metadata": {
        "id": "twlX6hnGpcrY"
      }
    },
    {
      "cell_type": "code",
      "source": [
        "# Program disusun untuk mengecek apakah angka merupakan bilangan positif, negatif, atau nol\n",
        "# dan menampilkan tulisan yang sesuai\n",
        "\n",
        "angka = float(input(\"Masukkan angka:\"))\n",
        "if angka >= 0:\n",
        "    if angka == 0:\n",
        "        print(\"Nol\")\n",
        "    else:\n",
        "        print(\"Bilangan Positif\")\n",
        "else:\n",
        "    print(\"Bilangan Negatif\")"
      ],
      "metadata": {
        "colab": {
          "base_uri": "https://localhost:8080/"
        },
        "id": "mLZoKRizpTom",
        "outputId": "3aa99ba1-6378-4632-b6d1-c8548b72ae23"
      },
      "execution_count": 15,
      "outputs": [
        {
          "output_type": "stream",
          "name": "stdout",
          "text": [
            "Masukkan angka:4\n",
            "Bilangan Positif\n"
          ]
        }
      ]
    },
    {
      "cell_type": "markdown",
      "source": [
        "# Latihan"
      ],
      "metadata": {
        "id": "hHkMlhNFqZA3"
      }
    },
    {
      "cell_type": "markdown",
      "source": [
        "Buatlah sebuah fungsi 'Mahal_Diskon' dengan ketentuan:\n",
        "\n",
        "\n",
        "*   Input berupa data harga produk dengan tipe data numerik Tunggal\n",
        "*   Kategori Input adalah 'Murah' dan 'Mahal', kemudian diskon ada 3 kategori '10%', '20%', dan '40%'\n",
        "*  Output Pertama sebuah teks/string yang menyatakan 'Mahal' atau 'Murah' dan Keterangan 'Kamu Dapat Diskon...'\n",
        "*  Output Kedua adalah harga yang perlu dibayarkan\n",
        "\n"
      ],
      "metadata": {
        "id": "CYU6hVf-qb4J"
      }
    },
    {
      "cell_type": "code",
      "source": [
        "# Ketikkan Codingan anda\n",
        "def Mahal_Diskon(harga):\n",
        "    if harga <= 100000:\n",
        "        kategori = 'Murah'\n",
        "        diskon = '10%'\n",
        "        harga_diskon = harga - (harga * 0.1)\n",
        "    elif harga <= 500000:\n",
        "        kategori = 'Murah'\n",
        "        diskon = '20%'\n",
        "        harga_diskon = harga - (harga * 0.2)\n",
        "    else:\n",
        "        kategori = 'Mahal'\n",
        "        diskon = '40%'\n",
        "        harga_diskon = harga - (harga * 0.4)\n",
        "\n",
        "    output_text = f\"{kategori}, Kamu Dapat Diskon {diskon}\"\n",
        "    return output_text, harga_diskon\n",
        "\n",
        "harga_produk = 350000\n",
        "hasil, harga_setelah_diskon = Mahal_Diskon(harga_produk)\n",
        "print(hasil)\n",
        "print(\"Harga yang perlu dibayarkan:\", harga_setelah_diskon)\n"
      ],
      "metadata": {
        "colab": {
          "base_uri": "https://localhost:8080/"
        },
        "id": "qvjKnZ6uPk4v",
        "outputId": "0a633df1-3a2b-4e82-b45f-3d464a7c43c8"
      },
      "execution_count": 16,
      "outputs": [
        {
          "output_type": "stream",
          "name": "stdout",
          "text": [
            "Murah, Kamu Dapat Diskon 20%\n",
            "Harga yang perlu dibayarkan: 280000.0\n"
          ]
        }
      ]
    },
    {
      "cell_type": "code",
      "source": [],
      "metadata": {
        "id": "kmqavj5Zthb4"
      },
      "execution_count": 16,
      "outputs": []
    }
  ]
}